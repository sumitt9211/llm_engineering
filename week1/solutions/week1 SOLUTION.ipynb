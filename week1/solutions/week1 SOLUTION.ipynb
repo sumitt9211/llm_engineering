{
 "cells": [
  {
   "cell_type": "markdown",
   "id": "fe12c203-e6a6-452c-a655-afb8a03a4ff5",
   "metadata": {},
   "source": [
    "# End of week 1 solution\n",
    "\n",
    "To demonstrate your familiarity with OpenAI API, and also Ollama, build a tool that takes a technical question,  \n",
    "and responds with an explanation. This is a tool that you will be able to use yourself during the course!\n",
    "\n",
    "After week 2 you'll be able to add a User Interface to this tool, giving you a valuable application."
   ]
  },
  {
   "cell_type": "code",
   "execution_count": 14,
   "id": "c1070317-3ed9-4659-abe3-828943230e03",
   "metadata": {},
   "outputs": [],
   "source": [
    "# imports\n",
    "\n",
    "from dotenv import load_dotenv\n",
    "from IPython.display import Markdown, display, update_display\n",
    "from openai import OpenAI\n",
    "import ollama"
   ]
  },
  {
   "cell_type": "code",
   "execution_count": 15,
   "id": "4a456906-915a-4bfd-bb9d-57e505c5093f",
   "metadata": {},
   "outputs": [],
   "source": [
    "# constants\n",
    "\n",
    "MODEL_GPT = 'gpt-4o-mini'\n",
    "MODEL_LLAMA = 'mistral'"
   ]
  },
  {
   "cell_type": "code",
   "execution_count": 16,
   "id": "a8d7923c-5f28-4c30-8556-342d7c8497c1",
   "metadata": {},
   "outputs": [],
   "source": [
    "# set up environment\n",
    "\n",
    "load_dotenv(r\"C:\\Users\\Dell\\Desktop\\.env\", override = True)\n",
    "openai = OpenAI()\n"
   ]
  },
  {
   "cell_type": "code",
   "execution_count": 25,
   "id": "3f0d0137-52b0-47a8-81a8-11a90a010798",
   "metadata": {},
   "outputs": [],
   "source": [
    "# here is the question; type over this to ask something new\n",
    "\n",
    "question = \"\"\"\n",
    "Please explain what this code does and why:\n",
    "display_handle = display(Markdown(\"\"), display_id=True)\n",
    "update_display(Markdown(response), display_id=display_handle.display_id)\n",
    "\"\"\""
   ]
  },
  {
   "cell_type": "code",
   "execution_count": 26,
   "id": "8595807b-8ae2-4e1b-95d9-e8532142e8bb",
   "metadata": {},
   "outputs": [],
   "source": [
    "# prompts\n",
    "\n",
    "system_prompt = \"You are a helpful technical tutor who answers questions about python code, software engineering, data science and LLMs\"\n",
    "user_prompt = \"Please give a detailed explanation to the following question: \" + question"
   ]
  },
  {
   "cell_type": "code",
   "execution_count": 27,
   "id": "9605cbb6-3d3f-4969-b420-7f4cae0b9328",
   "metadata": {},
   "outputs": [],
   "source": [
    "# messages\n",
    "\n",
    "messages = [\n",
    "    {\"role\": \"system\", \"content\": system_prompt},\n",
    "    {\"role\": \"user\", \"content\": user_prompt}\n",
    "]"
   ]
  },
  {
   "cell_type": "code",
   "execution_count": 7,
   "id": "60ce7000-a4a5-4cce-a261-e75ef45063b4",
   "metadata": {},
   "outputs": [
    {
     "data": {
      "text/markdown": [
       "The line of code you provided uses several Python features, including a generator expression and a set comprehension. Let’s break it down step-by-step for clarity.\n",
       "\n",
       "### Code Explanation\n",
       "\n",
       "python\n",
       "yield from {book.get(\"author\") for book in books if book.get(\"author\")}\n",
       "\n",
       "\n",
       "1. **Context of the Code:**\n",
       "   - The line is used inside a generator function (denoted by the presence of `yield`).\n",
       "   - This line is part of a larger routine that returns values iteratively, which can be used in a loop or consumed by another function.\n",
       "\n",
       "2. **Set Comprehension:**\n",
       "   - `{book.get(\"author\") for book in books if book.get(\"author\")}` is a set comprehension.\n",
       "   - This means it will create a set, which inherently does not allow duplicate values, from the elements yielded by the expression.\n",
       "\n",
       "3. **Iterating Over `books`:**\n",
       "   - `books` is expected to be an iterable (like a list) containing dictionary objects, where each dictionary likely represents a book with various attributes including the author's name.\n",
       "   - `for book in books` iterates over each book dictionary in the `books`.\n",
       "\n",
       "4. **Getting Author Names:**\n",
       "   - `book.get(\"author\")` is a method that retrieves the value associated with the key `\"author\"` in each book dictionary. If the key does not exist, it returns `None`.\n",
       "   - `if book.get(\"author\")` acts as a filter, ensuring that only books with a defined author (i.e., where the author is not `None` or an empty string) are considered.\n",
       "\n",
       "5. **Creating a Set:**\n",
       "   - The result of the set comprehension is a set of unique authors. Because of the nature of sets, any duplicate author names found across different books will only appear once in the resulting set.\n",
       "   \n",
       "6. **Yielding Values:**\n",
       "   - The `yield from` statement is used to yield all items from the set one by one. This means that each unique author in the set will be returned one at a time to whatever is iterating over this generator function.\n",
       "\n",
       "### Purpose of the Code\n",
       "\n",
       "- The primary purpose of this line of code is to extract unique author names from a collection of book dictionaries (`books`) and yield them as part of a generator function.\n",
       "- By using a set comprehension, it ensures that there are no duplicates among the author names.\n",
       "- The use of `yield from` allows the function to be used in a lazy manner, meaning that it does not compute all the values at once, making it efficient in terms of memory usage, especially with large datasets.\n",
       "\n",
       "### Example\n",
       "\n",
       "To illustrate, consider the following example:\n",
       "\n",
       "python\n",
       "books = [\n",
       "    {\"title\": \"Book One\", \"author\": \"Author A\"},\n",
       "    {\"title\": \"Book Two\", \"author\": \"Author B\"},\n",
       "    {\"title\": \"Book Three\", \"author\": \"Author A\"},\n",
       "    {\"title\": \"Book Four\", \"author\": None},\n",
       "    {\"title\": \"Book Five\", \"author\": \"Author C\"},\n",
       "]\n",
       "\n",
       "def unique_authors(books):\n",
       "    yield from {book.get(\"author\") for book in books if book.get(\"author\")}\n",
       "\n",
       "for author in unique_authors(books):\n",
       "    print(author)\n",
       "\n",
       "\n",
       "### Output:\n",
       "\n",
       "Author A\n",
       "Author B\n",
       "Author C\n",
       "\n",
       "\n",
       "In this example:\n",
       "- The unique authors `Author A`, `Author B`, and `Author C` will be yielded (or printed) one by one.\n",
       "- `None` entries are excluded since they do not represent valid authors.\n",
       "\n",
       "### Conclusion\n",
       "\n",
       "In summary, the code `yield from {book.get(\"author\") for book in books if book.get(\"author\")}` efficiently extracts and yields the unique authors from a list of books while handling potential missing entries gracefully. This is a good demonstration of combining comprehensions and generators in Python for a clean and efficient code solution."
      ],
      "text/plain": [
       "<IPython.core.display.Markdown object>"
      ]
     },
     "metadata": {},
     "output_type": "display_data"
    }
   ],
   "source": [
    "# Get gpt-4o-mini to answer, with streaming\n",
    "\n",
    "stream = openai.chat.completions.create(model=MODEL_GPT, messages=messages,stream=True)\n",
    "    \n",
    "response = \"\"\n",
    "display_handle = display(Markdown(\"\"), display_id=True)\n",
    "for chunk in stream:\n",
    "    response += chunk.choices[0].delta.content or ''\n",
    "    response = response.replace(\"```\",\"\").replace(\"markdown\", \"\")\n",
    "    update_display(Markdown(response), display_id=display_handle.display_id)"
   ]
  },
  {
   "cell_type": "code",
   "execution_count": 28,
   "id": "8f7c8ea8-4082-4ad0-8751-3301adcf6538",
   "metadata": {},
   "outputs": [
    {
     "data": {
      "text/markdown": [
       " This code snippet appears to be written in Jupyter Notebook, a popular interactive computing environment for data science and machine learning tasks. The code is using the IPython (now known as PyTorch's implementation of IPython, or simply 'IPython') display capabilities to render Markdown content dynamically. Let me explain each line:\n",
       "\n",
       "1) `display_handle = display(Markdown(\"\"), display_id=True)` : This line is creating a display handle object and rendering an empty Markdown string in the Jupyter Notebook. The `display()` function displays arbitrary Python objects, but here it's used with the `Markdown()` constructor to render Markdown formatted text. The `display_id=True` argument tells IPython to generate a unique ID for this display object which can be used later to update its content.\n",
       "\n",
       "2) `update_display(Markdown(response), display_id=display_handle.display_id)` : This line updates the previously created Markdown display with new content, represented by the `Markdown(response)` expression. The original response is assumed to contain some Markdown formatted text that needs to be displayed. The purpose of this line is to dynamically update the rendered Markdown content in the Jupyter Notebook as a response from an API call, function, or other computation.\n",
       "\n",
       "In summary, this code creates an empty display and assigns it an ID, then updates the display with new content using that ID later on. This can be useful for creating dynamically updating Markdown content in a Jupyter Notebook environment."
      ],
      "text/plain": [
       "<IPython.core.display.Markdown object>"
      ]
     },
     "metadata": {},
     "output_type": "display_data"
    }
   ],
   "source": [
    "# Get Llama 3.2 to answer\n",
    "\n",
    "response = ollama.chat(model=MODEL_LLAMA, messages=messages)\n",
    "reply = response['message']['content']\n",
    "display(Markdown(reply))"
   ]
  },
  {
   "cell_type": "markdown",
   "id": "7e14bcdb-b928-4b14-961e-9f7d8c7335bf",
   "metadata": {},
   "source": [
    "# Congratulations!\n",
    "\n",
    "You could make it better by taking in the question using  \n",
    "`my_question = input(\"Please enter your question:\")`\n",
    "\n",
    "And then creating the prompts and making the calls interactively."
   ]
  },
  {
   "cell_type": "code",
   "execution_count": null,
   "id": "da663d73-dd2a-4fff-84df-2209cf2b330b",
   "metadata": {},
   "outputs": [],
   "source": []
  }
 ],
 "metadata": {
  "kernelspec": {
   "display_name": "Python 3 (ipykernel)",
   "language": "python",
   "name": "python3"
  },
  "language_info": {
   "codemirror_mode": {
    "name": "ipython",
    "version": 3
   },
   "file_extension": ".py",
   "mimetype": "text/x-python",
   "name": "python",
   "nbconvert_exporter": "python",
   "pygments_lexer": "ipython3",
   "version": "3.11.11"
  }
 },
 "nbformat": 4,
 "nbformat_minor": 5
}
